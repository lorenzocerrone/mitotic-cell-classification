{
 "cells": [
  {
   "cell_type": "code",
   "execution_count": null,
   "id": "acf9c5f3",
   "metadata": {},
   "outputs": [],
   "source": [
    "import torch\n",
    "from src.utils.io import load_tiff\n",
    "from src.utils.visualization import basic_visualizer, patches_visualizer, predictions_visualizer\n",
    "from src.utils.patches import process_data, process_tiff2h5\n",
    "from src.classification.train import simple_predict\n",
    "from torchmetrics import ConfusionMatrix\n",
    "from src.classification.model import plot_confusion_matrix\n",
    "from math import ceil\n",
    "from pathlib import Path\n",
    "import matplotlib.pyplot as plt\n",
    "import numpy as np"
   ]
  },
  {
   "cell_type": "markdown",
   "id": "6ee6e8df",
   "metadata": {},
   "source": [
    "## Setup paths (modify here only)"
   ]
  },
  {
   "cell_type": "code",
   "execution_count": null,
   "id": "d7dad5b1",
   "metadata": {},
   "outputs": [],
   "source": [
    "# path to raw nuclei staining\n",
    "raw_path = '/home/lcerrone/data/Mitotic-cells/raw/608/608_stain.tif'\n",
    "# path to nuclei segmentation\n",
    "seg_path = '/home/lcerrone/data/Mitotic-cells/raw/608/608_segmented.tif'\n",
    "# if no label exists leave None\n",
    "labels_path = '/home/lcerrone/data/Mitotic-cells/raw/608/608_parents.csv'\n",
    "\n",
    "# Flip segmentation: possible values True or False\n",
    "is_flipped = False"
   ]
  },
  {
   "cell_type": "markdown",
   "id": "a709611a",
   "metadata": {},
   "source": [
    "## 1 Check Data\n",
    "is segmnetation is not alligned with the raw stain change `is_flipped = True`"
   ]
  },
  {
   "cell_type": "code",
   "execution_count": null,
   "id": "f72201fd",
   "metadata": {},
   "outputs": [],
   "source": [
    "viewer = basic_visualizer(raw_path, seg_path, flip=is_flipped)"
   ]
  },
  {
   "cell_type": "markdown",
   "id": "ece4cc4d",
   "metadata": {},
   "source": [
    "## 2 Create h5 file"
   ]
  },
  {
   "cell_type": "code",
   "execution_count": null,
   "id": "b5903245",
   "metadata": {},
   "outputs": [],
   "source": [
    "h5file = process_tiff2h5(raw_path=raw_path, segmentation_path=seg_path, flip=is_flipped)"
   ]
  },
  {
   "cell_type": "markdown",
   "id": "1314368e",
   "metadata": {},
   "source": [
    "## 2 Process data and create patches"
   ]
  },
  {
   "cell_type": "code",
   "execution_count": null,
   "id": "35a7dd6b",
   "metadata": {},
   "outputs": [],
   "source": [
    "patches_path = process_data(\"/home/lcerrone/data/Mitotic-cells/raw_exp/412/412_stain.h5\",\n",
    "                            labels_csv_path=labels_path,\n",
    "                            shape=(3, 128, 128),\n",
    "                            sigma=(0, 1, 1))"
   ]
  },
  {
   "cell_type": "markdown",
   "id": "35492e30",
   "metadata": {},
   "source": [
    "## 3 Check patches (can be skiped)"
   ]
  },
  {
   "cell_type": "code",
   "execution_count": null,
   "id": "0b13795b",
   "metadata": {},
   "outputs": [],
   "source": [
    "viewer = patches_visualizer('/home/lcerrone/data/Mitotic-cells/raw/412/412_stain_patches.h5')"
   ]
  },
  {
   "cell_type": "markdown",
   "id": "39a93989",
   "metadata": {},
   "source": [
    "## 4 Predictions"
   ]
  },
  {
   "cell_type": "code",
   "execution_count": null,
   "id": "ef40934c",
   "metadata": {},
   "outputs": [],
   "source": [
    "model_paths = ['./models/*ckpt', './models/*ckpt']"
   ]
  },
  {
   "cell_type": "code",
   "execution_count": null,
   "id": "ce8a00f1",
   "metadata": {},
   "outputs": [],
   "source": [
    "results = simple_predict(patches_path, model_paths)"
   ]
  }
 ],
 "metadata": {
  "kernelspec": {
   "display_name": "Python 3 (ipykernel)",
   "language": "python",
   "name": "python3"
  },
  "language_info": {
   "codemirror_mode": {
    "name": "ipython",
    "version": 3
   },
   "file_extension": ".py",
   "mimetype": "text/x-python",
   "name": "python",
   "nbconvert_exporter": "python",
   "pygments_lexer": "ipython3",
   "version": "3.10.4"
  }
 },
 "nbformat": 4,
 "nbformat_minor": 5
}
