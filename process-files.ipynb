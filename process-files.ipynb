{
 "cells": [
  {
   "cell_type": "code",
   "execution_count": null,
   "id": "acf9c5f3",
   "metadata": {},
   "outputs": [],
   "source": [
    "import torch\n",
    "from src.utils.io import load_tiff\n",
    "from src.utils.visualization import basic_visualizer, patches_visualizer, predictions_visualizer\n",
    "from src.utils.patches import process_data\n",
    "from src.classification.train import simple_predict\n",
    "from torchmetrics import ConfusionMatrix\n",
    "from src.classification.model import plot_confusion_matrix"
   ]
  },
  {
   "cell_type": "markdown",
   "id": "6ee6e8df",
   "metadata": {},
   "source": [
    "## Setup paths"
   ]
  },
  {
   "cell_type": "code",
   "execution_count": null,
   "id": "d7dad5b1",
   "metadata": {},
   "outputs": [],
   "source": [
    "raw_path = '/home/lcerrone/data/Mitotic-cells/raw/1136/1136_stain.tif'\n",
    "seg_path = '/home/lcerrone/data/Mitotic-cells/raw/1136/1136_segmented_flipped.tif'\n",
    "labels_path = '/home/lcerrone/data/Mitotic-cells/raw/1136/1136_parents.csv'\n",
    "is_flipped = True"
   ]
  },
  {
   "cell_type": "markdown",
   "id": "a709611a",
   "metadata": {},
   "source": [
    "## 1 Check Data\n",
    "is segmnetation is not alligned with the raw stain change `is_flipped = True`"
   ]
  },
  {
   "cell_type": "code",
   "execution_count": null,
   "id": "f72201fd",
   "metadata": {},
   "outputs": [],
   "source": [
    "viewer = basic_visualizer(raw_path, seg_path, flip=is_flipped)"
   ]
  },
  {
   "cell_type": "markdown",
   "id": "1314368e",
   "metadata": {},
   "source": [
    "## 2 Process data and create patches"
   ]
  },
  {
   "cell_type": "code",
   "execution_count": null,
   "id": "35a7dd6b",
   "metadata": {},
   "outputs": [],
   "source": [
    "patches_path = process_data(raw_path=raw_path,\n",
    "                            segmentation_path=seg_path,\n",
    "                            labels_csv_path=labels_path,\n",
    "                            flip=is_flipped)\n",
    "print(patches_path)"
   ]
  },
  {
   "cell_type": "markdown",
   "id": "35492e30",
   "metadata": {},
   "source": [
    "## 3 Check patches (can be skiped)"
   ]
  },
  {
   "cell_type": "code",
   "execution_count": null,
   "id": "0b13795b",
   "metadata": {},
   "outputs": [],
   "source": [
    "viewer = patches_visualizer(patches_path)"
   ]
  },
  {
   "cell_type": "markdown",
   "id": "39a93989",
   "metadata": {},
   "source": [
    "## 4 Predictions"
   ]
  },
  {
   "cell_type": "code",
   "execution_count": null,
   "id": "ce8a00f1",
   "metadata": {},
   "outputs": [],
   "source": [
    "model_path = '/home/lcerrone/PycharmProjects/mitotic-cell-classification/logs/lightning_logs/version_5/checkpoints/epoch=468-step=443205.ckpt'\n",
    "results = simple_predict(patches_path, model_path)"
   ]
  },
  {
   "cell_type": "markdown",
   "id": "0625bafd",
   "metadata": {},
   "source": [
    "## 5 Check Predictions (can be skiped)"
   ]
  },
  {
   "cell_type": "code",
   "execution_count": null,
   "id": "6954d510",
   "metadata": {},
   "outputs": [],
   "source": [
    "result = results[str(patches_path)]\n",
    "pred = torch.Tensor(result['predictions']).long()\n",
    "lab = torch.Tensor(result['labels']).long()\n",
    "cm = ConfusionMatrix(2)(pred, lab)\n",
    "fig = plot_confusion_matrix(cm.numpy())\n",
    "\n",
    "predictions_visualizer(patches_path, pred.numpy())"
   ]
  }
 ],
 "metadata": {
  "kernelspec": {
   "display_name": "Python 3 (ipykernel)",
   "language": "python",
   "name": "python3"
  },
  "language_info": {
   "codemirror_mode": {
    "name": "ipython",
    "version": 3
   },
   "file_extension": ".py",
   "mimetype": "text/x-python",
   "name": "python",
   "nbconvert_exporter": "python",
   "pygments_lexer": "ipython3",
   "version": "3.10.4"
  }
 },
 "nbformat": 4,
 "nbformat_minor": 5
}
